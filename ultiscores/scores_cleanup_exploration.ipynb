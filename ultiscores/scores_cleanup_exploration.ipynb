{
 "cells": [
  {
   "cell_type": "code",
   "execution_count": 69,
   "metadata": {
    "collapsed": true
   },
   "outputs": [],
   "source": [
    "%matplotlib inline\n",
    "\n",
    "import pandas as pd\n",
    "import numpy as np\n",
    "import networkx as nx\n",
    "import matplotlib.pyplot as plt"
   ]
  },
  {
   "cell_type": "code",
   "execution_count": 124,
   "metadata": {
    "collapsed": true
   },
   "outputs": [],
   "source": [
    "scores = pd.read_csv('regular_season_scores_20160922.csv')\n",
    "#remove seeds from team names\n",
    "scores['home'] = scores['home'].apply(lambda x: str(x).split('(')[0])\n",
    "scores['away'] = scores['away'].apply(lambda x: str(x).split('(')[0])\n",
    "#remove games from cancelled tournaments => teamname is 'nan'\n",
    "scores = scores[scores['home'] != 'nan']\n",
    "scores = scores[scores['away'] != 'nan']\n",
    "###start with only mens games\n",
    "scores = scores[scores['div'] == 'Men']"
   ]
  },
  {
   "cell_type": "code",
   "execution_count": 137,
   "metadata": {
    "collapsed": false
   },
   "outputs": [
    {
     "data": {
      "image/png": "[encoded data removed]",
      "text/plain": [
       "<matplotlib.figure.Figure at 0xc119320>"
      ]
     },
     "metadata": {},
     "output_type": "display_data"
    }
   ],
   "source": [
    "allgames = pd.concat([scores['home'], scores['away']])\n",
    "numgames = pd.value_counts(allgames)\n",
    "rankedteams = numgames[numgames >= 10].index\n",
    "plt.show(numgames.hist(bins=max(numgames)))\n",
    "#tempscores = scores.copy(deep=True)\n",
    "#while min(numgames) < 10:\n",
    "#    tempscores = tempscores[tempscores['home'].isin(rankedteams) & tempscores['away'].isin(rankedteams)]\n",
    "#    allgames = pd.concat([tempscores['home'], tempscores['away']])\n",
    "#    numgames = pd.value_counts(allgames)\n",
    "#    rankedteams = numgames[numgames >= 10].index\n",
    "#    print 'teams removed = {}'.format(sum(numgames < 10))"
   ]
  },
  {
   "cell_type": "code",
   "execution_count": 180,
   "metadata": {
    "collapsed": false
   },
   "outputs": [
    {
     "name": "stdout",
     "output_type": "stream",
     "text": [
      "0        0\n",
      "1        0\n",
      "2        0\n",
      "3        0\n",
      "4        0\n",
      "5        0\n",
      "6        0\n",
      "7        0\n",
      "8        0\n",
      "9        0\n",
      "10       0\n",
      "11       0\n",
      "12       0\n",
      "13       0\n",
      "14       0\n",
      "15       0\n",
      "16       0\n",
      "17       0\n",
      "18       0\n",
      "19       0\n",
      "20       0\n",
      "21       0\n",
      "22       0\n",
      "23       0\n",
      "24       0\n",
      "38      18\n",
      "39      20\n",
      "40      18\n",
      "107     16\n",
      "108     23\n",
      "        ..\n",
      "3659    17\n",
      "3660    16\n",
      "3661    23\n",
      "3662    19\n",
      "3663    19\n",
      "3664    19\n",
      "3665    16\n",
      "3666    21\n",
      "3667    19\n",
      "3668    20\n",
      "3669    28\n",
      "3670    23\n",
      "3671    27\n",
      "3672    27\n",
      "3673    21\n",
      "3674    19\n",
      "3675    24\n",
      "3678    28\n",
      "3679    25\n",
      "3680    23\n",
      "3681    19\n",
      "3682    29\n",
      "3683    23\n",
      "3684    22\n",
      "3685    23\n",
      "3686    27\n",
      "3687    27\n",
      "3689    17\n",
      "3690    21\n",
      "3691    21\n",
      "dtype: int64\n"
     ]
    }
   ],
   "source": [
    "scores = scores[~scores['homescore'].isin(['W','L','F'])]\n",
    "scores = scores[~scores['awayscore'].isin(['W','L','F'])]\n",
    "scores[['homescore','awayscore']] = scores[['homescore','awayscore']].astype(int)\n",
    "\n",
    "#print scores[['homescore', 'awayscore']].apply(sum, axis=1)\n",
    "#scores = scores[scores[['homescore', 'awayscore']].apply(sum) > 0]"
   ]
  },
  {
   "cell_type": "code",
   "execution_count": 171,
   "metadata": {
    "collapsed": true
   },
   "outputs": [],
   "source": [
    "def createGraph(tourneyScores):\n",
    "    gameResults = pd.DataFrame()\n",
    "    winnerBool = tourneyScores['homescore'] > tourneyScores['awayscore']\n",
    "    gameResults['winner'] = pd.concat([tourneyScores.loc[winnerBool, 'home'], tourneyScores.loc[~winnerBool, 'away']])\n",
    "    gameResults['loser'] = pd.concat([tourneyScores.loc[winnerBool,'away'], tourneyScores.loc[~winnerBool, 'home']])\n",
    "    graph = nx.from_pandas_dataframe(gameResults, source='loser', target='winner', create_using=nx.MultiDiGraph())\n",
    "    return graph"
   ]
  },
  {
   "cell_type": "code",
   "execution_count": 172,
   "metadata": {
    "collapsed": true
   },
   "outputs": [],
   "source": [
    "graph = createGraph(scores)\n",
    "#nx.write_graphml(graph, 'mens_games')\n",
    "#nx.draw(graph)\n",
    "#plt.draw()"
   ]
  },
  {
   "cell_type": "code",
   "execution_count": null,
   "metadata": {
    "collapsed": true
   },
   "outputs": [],
   "source": [
    "nxscores = scores[['awayscore','homescore','home','away']]\n",
    "nxscores['winner'] = scores['home'] = scores['home'].apply(lambda x: str(x).split('(')[0])\n",
    "scores['away'] = scores['away'].apply(lambda x: str(x).split('(')[0])\n",
    "scores = scores[scores['home'] != 'nan']\n",
    "scores = scores[scores['away'] != 'nan']\n",
    "nxscores['loser'] = \n",
    "season_graph = nx.from_pandas_dataframe(nxscores, source='loser', target='winner', create_using=nx.MultiDiGraph())"
   ]
  },
  {
   "cell_type": "code",
   "execution_count": null,
   "metadata": {
    "collapsed": true
   },
   "outputs": [],
   "source": [
    "scores = scores[~scores['homescore'].isin(['W','L','F'])]\n",
    "scores = scores[~scores['awayscore'].isin(['W','L','F'])]"
   ]
  },
  {
   "cell_type": "code",
   "execution_count": 78,
   "metadata": {
    "collapsed": true
   },
   "outputs": [],
   "source": [
    "menscores = scores[scores['div'] == 'Men']\n",
    "womenscores = scores[scores['div'] == 'Women']\n",
    "mixedscores = scores[scores['div'] == 'Mixed']\n",
    "men_teams = pd.concat([menscores['home'], menscores['away']], axis=0)"
   ]
  },
  {
   "cell_type": "code",
   "execution_count": 95,
   "metadata": {
    "collapsed": false
   },
   "outputs": [
    {
     "data": {
      "text/plain": [
       "pandas.core.series.Series"
      ]
     },
     "execution_count": 95,
     "metadata": {},
     "output_type": "execute_result"
    }
   ],
   "source": [
    ""
   ]
  },
  {
   "cell_type": "code",
   "execution_count": null,
   "metadata": {
    "collapsed": true
   },
   "outputs": [],
   "source": [
    ""
   ]
  }
 ],
 "metadata": {
  "kernelspec": {
   "display_name": "Python 2",
   "language": "python",
   "name": "python2"
  },
  "language_info": {
   "codemirror_mode": {
    "name": "ipython",
    "version": 2.0
   },
   "file_extension": ".py",
   "mimetype": "text/x-python",
   "name": "python",
   "nbconvert_exporter": "python",
   "pygments_lexer": "ipython2",
   "version": "2.7.13"
  }
 },
 "nbformat": 4,
 "nbformat_minor": 0
}