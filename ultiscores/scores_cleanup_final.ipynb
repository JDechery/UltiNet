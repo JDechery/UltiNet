{
 "cells": [
  {
   "cell_type": "code",
   "execution_count": 1,
   "metadata": {
    "collapsed": true
   },
   "outputs": [],
   "source": [
    "%matplotlib inline\n",
    "\n",
    "import pandas as pd\n",
    "import numpy as np\n",
    "import networkx as nx\n",
    "import matplotlib.pyplot as plt"
   ]
  },
  {
   "cell_type": "code",
   "execution_count": 2,
   "metadata": {
    "collapsed": false
   },
   "outputs": [
    {
     "name": "stdout",
     "output_type": "stream",
     "text": [
      "Mixed    1514\n",
      "Men      1472\n",
      "Women     650\n",
      "Name: div, dtype: int64\n"
     ]
    }
   ],
   "source": [
    "scores = pd.read_csv('regular_season_scores_20160922.csv')\n",
    "#remove seeds & extra whitespace from team names\n",
    "scores['home'] = scores['home'].apply(lambda x: str(x).split(' (')[0].strip())\n",
    "scores['away'] = scores['away'].apply(lambda x: str(x).split(' (')[0].strip())\n",
    "#convert unrecorded scores to games with 0:1 scores\n",
    "scores.loc[scores['homescore']=='W','awayscore'] = 0\n",
    "scores.loc[scores['awayscore']=='W','homescore'] = 0\n",
    "scores.loc[scores['homescore']=='W','homescore'] = 1\n",
    "scores.loc[scores['awayscore']=='W','awayscore'] = 1\n",
    "scores = scores[~scores['homescore'].isin(['W','L','F'])]\n",
    "scores = scores[~scores['awayscore'].isin(['W','L','F'])]\n",
    "scores[['homescore','awayscore']] = scores[['homescore','awayscore']].astype(int)\n",
    "\n",
    "#remove cancelled tournaments (teamname is 'nan' or scores are both 0)\n",
    "scores = scores[scores['home'] != 'nan']\n",
    "scores = scores[scores['away'] != 'nan']\n",
    "scores = scores[scores[['homescore','awayscore']].sum(axis=1).values > 0]\n",
    "\n",
    "print pd.value_counts(scores['div'])\n",
    "#allgames = pd.concat([scores['home'], scores['away']])\n",
    "#numgames = pd.value_counts(allgames)\n",
    "#rankedteams = numgames[numgames >= 10].index"
   ]
  },
  {
   "cell_type": "code",
   "execution_count": 4,
   "metadata": {
    "collapsed": false,
    "scrolled": true
   },
   "outputs": [
    {
     "data": {
      "text/plain": [
       "int32     2\n",
       "object    5\n",
       "dtype: int64"
      ]
     },
     "execution_count": 4,
     "metadata": {},
     "output_type": "execute_result"
    }
   ],
   "source": [
    "#tempscores = scores.copy(deep=True)\n",
    "allgames = pd.concat([scores['home'], scores['away']])\n",
    "numgames = pd.value_counts(allgames)\n",
    "rankedteams = numgames[numgames >= 10].index\n",
    "scores = scores[scores[['home','away']].isin(rankedteams).all(axis=1)]\n",
    "\n",
    "#plt.show(numgames.hist(bins=max(numgames)))\n",
    "#while numgames is not None or min(numgames) < 10:\n",
    "#    tempscores = tempscores[tempscores[['home','away']].isin(rankedteams).all(axis=1)]\n",
    "#    allgames = pd.concat([tempscores['home'], tempscores['away']])\n",
    "#    numgames = pd.value_counts(allgames)\n",
    "#    rankedteams = numgames[numgames >= 10].index\n",
    "    #print pd.value_counts(tempscores['div'])\n",
    "#    print 'teams removed = {}'.format(sum(numgames < 10))\n",
    "    \n",
    "#tempscores = tempscores[tempscores[['home','away']].isin(rankedteams).any(axis=1)]\n",
    "#tempscores.head\n",
    "#pd.value_counts(tempscores['home']) + pd.value_counts(tempscores['away'])\n",
    "#scores = tempscores\n",
    "#print pd.value_counts(scores['div'])\n",
    "#scores.get_dtype_counts()"
   ]
  },
  {
   "cell_type": "code",
   "execution_count": 67,
   "metadata": {
    "collapsed": true
   },
   "outputs": [],
   "source": [
    "scores[scores['div'] == 'Men'].to_csv('2016_mens_regular_season_results.csv')\n",
    "scores[scores['div'] == 'Women'].to_csv('2016_womens_regular_season_results.csv')\n",
    "scores[scores['div'] == 'Mixed'].to_csv('2016_mixed_regular_season_results.csv')\n"
   ]
  }
 ],
 "metadata": {
  "kernelspec": {
   "display_name": "Python 2",
   "language": "python",
   "name": "python2"
  },
  "language_info": {
   "codemirror_mode": {
    "name": "ipython",
    "version": 2
   },
   "file_extension": ".py",
   "mimetype": "text/x-python",
   "name": "python",
   "nbconvert_exporter": "python",
   "pygments_lexer": "ipython2",
   "version": "2.7.13"
  }
 },
 "nbformat": 4,
 "nbformat_minor": 0
}
